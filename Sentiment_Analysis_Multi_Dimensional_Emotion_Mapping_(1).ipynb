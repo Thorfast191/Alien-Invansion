{
  "cells": [
    {
      "cell_type": "markdown",
      "metadata": {
        "id": "view-in-github",
        "colab_type": "text"
      },
      "source": [
        "<a href=\"https://colab.research.google.com/github/Thorfast191/Alien-Invansion/blob/main/Sentiment_Analysis_Multi_Dimensional_Emotion_Mapping_(1).ipynb\" target=\"_parent\"><img src=\"https://colab.research.google.com/assets/colab-badge.svg\" alt=\"Open In Colab\"/></a>"
      ]
    },
    {
      "cell_type": "markdown",
      "metadata": {
        "id": "pfHpRrLPoL2i"
      },
      "source": [
        "# Dependencies"
      ]
    },
    {
      "cell_type": "code",
      "execution_count": 1,
      "metadata": {
        "colab": {
          "base_uri": "https://localhost:8080/"
        },
        "collapsed": true,
        "id": "MYCePq4D5rqO",
        "outputId": "8472d6a3-0279-4c09-c70b-fc761d94b478"
      },
      "outputs": [
        {
          "output_type": "stream",
          "name": "stdout",
          "text": [
            "Requirement already satisfied: datasets in /usr/local/lib/python3.11/dist-packages (3.5.0)\n",
            "Requirement already satisfied: transformers in /usr/local/lib/python3.11/dist-packages (4.50.0)\n",
            "Requirement already satisfied: tensorflow in /usr/local/lib/python3.11/dist-packages (2.18.0)\n",
            "Requirement already satisfied: numpy in /usr/local/lib/python3.11/dist-packages (2.0.2)\n",
            "Requirement already satisfied: scikit-learn in /usr/local/lib/python3.11/dist-packages (1.6.1)\n",
            "Requirement already satisfied: spacy in /usr/local/lib/python3.11/dist-packages (3.8.4)\n",
            "Requirement already satisfied: filelock in /usr/local/lib/python3.11/dist-packages (from datasets) (3.18.0)\n",
            "Requirement already satisfied: pyarrow>=15.0.0 in /usr/local/lib/python3.11/dist-packages (from datasets) (18.1.0)\n",
            "Requirement already satisfied: dill<0.3.9,>=0.3.0 in /usr/local/lib/python3.11/dist-packages (from datasets) (0.3.8)\n",
            "Requirement already satisfied: pandas in /usr/local/lib/python3.11/dist-packages (from datasets) (2.2.2)\n",
            "Requirement already satisfied: requests>=2.32.2 in /usr/local/lib/python3.11/dist-packages (from datasets) (2.32.3)\n",
            "Requirement already satisfied: tqdm>=4.66.3 in /usr/local/lib/python3.11/dist-packages (from datasets) (4.67.1)\n",
            "Requirement already satisfied: xxhash in /usr/local/lib/python3.11/dist-packages (from datasets) (3.5.0)\n",
            "Requirement already satisfied: multiprocess<0.70.17 in /usr/local/lib/python3.11/dist-packages (from datasets) (0.70.16)\n",
            "Requirement already satisfied: fsspec<=2024.12.0,>=2023.1.0 in /usr/local/lib/python3.11/dist-packages (from fsspec[http]<=2024.12.0,>=2023.1.0->datasets) (2024.12.0)\n",
            "Requirement already satisfied: aiohttp in /usr/local/lib/python3.11/dist-packages (from datasets) (3.11.14)\n",
            "Requirement already satisfied: huggingface-hub>=0.24.0 in /usr/local/lib/python3.11/dist-packages (from datasets) (0.29.3)\n",
            "Requirement already satisfied: packaging in /usr/local/lib/python3.11/dist-packages (from datasets) (24.2)\n",
            "Requirement already satisfied: pyyaml>=5.1 in /usr/local/lib/python3.11/dist-packages (from datasets) (6.0.2)\n",
            "Requirement already satisfied: regex!=2019.12.17 in /usr/local/lib/python3.11/dist-packages (from transformers) (2024.11.6)\n",
            "Requirement already satisfied: tokenizers<0.22,>=0.21 in /usr/local/lib/python3.11/dist-packages (from transformers) (0.21.1)\n",
            "Requirement already satisfied: safetensors>=0.4.3 in /usr/local/lib/python3.11/dist-packages (from transformers) (0.5.3)\n",
            "Requirement already satisfied: absl-py>=1.0.0 in /usr/local/lib/python3.11/dist-packages (from tensorflow) (1.4.0)\n",
            "Requirement already satisfied: astunparse>=1.6.0 in /usr/local/lib/python3.11/dist-packages (from tensorflow) (1.6.3)\n",
            "Requirement already satisfied: flatbuffers>=24.3.25 in /usr/local/lib/python3.11/dist-packages (from tensorflow) (25.2.10)\n",
            "Requirement already satisfied: gast!=0.5.0,!=0.5.1,!=0.5.2,>=0.2.1 in /usr/local/lib/python3.11/dist-packages (from tensorflow) (0.6.0)\n",
            "Requirement already satisfied: google-pasta>=0.1.1 in /usr/local/lib/python3.11/dist-packages (from tensorflow) (0.2.0)\n",
            "Requirement already satisfied: libclang>=13.0.0 in /usr/local/lib/python3.11/dist-packages (from tensorflow) (18.1.1)\n",
            "Requirement already satisfied: opt-einsum>=2.3.2 in /usr/local/lib/python3.11/dist-packages (from tensorflow) (3.4.0)\n",
            "Requirement already satisfied: protobuf!=4.21.0,!=4.21.1,!=4.21.2,!=4.21.3,!=4.21.4,!=4.21.5,<6.0.0dev,>=3.20.3 in /usr/local/lib/python3.11/dist-packages (from tensorflow) (5.29.4)\n",
            "Requirement already satisfied: setuptools in /usr/local/lib/python3.11/dist-packages (from tensorflow) (75.1.0)\n",
            "Requirement already satisfied: six>=1.12.0 in /usr/local/lib/python3.11/dist-packages (from tensorflow) (1.17.0)\n",
            "Requirement already satisfied: termcolor>=1.1.0 in /usr/local/lib/python3.11/dist-packages (from tensorflow) (2.5.0)\n",
            "Requirement already satisfied: typing-extensions>=3.6.6 in /usr/local/lib/python3.11/dist-packages (from tensorflow) (4.12.2)\n",
            "Requirement already satisfied: wrapt>=1.11.0 in /usr/local/lib/python3.11/dist-packages (from tensorflow) (1.17.2)\n",
            "Requirement already satisfied: grpcio<2.0,>=1.24.3 in /usr/local/lib/python3.11/dist-packages (from tensorflow) (1.71.0)\n",
            "Requirement already satisfied: tensorboard<2.19,>=2.18 in /usr/local/lib/python3.11/dist-packages (from tensorflow) (2.18.0)\n",
            "Requirement already satisfied: keras>=3.5.0 in /usr/local/lib/python3.11/dist-packages (from tensorflow) (3.8.0)\n",
            "Requirement already satisfied: h5py>=3.11.0 in /usr/local/lib/python3.11/dist-packages (from tensorflow) (3.13.0)\n",
            "Requirement already satisfied: ml-dtypes<0.5.0,>=0.4.0 in /usr/local/lib/python3.11/dist-packages (from tensorflow) (0.4.1)\n",
            "Requirement already satisfied: tensorflow-io-gcs-filesystem>=0.23.1 in /usr/local/lib/python3.11/dist-packages (from tensorflow) (0.37.1)\n",
            "Requirement already satisfied: scipy>=1.6.0 in /usr/local/lib/python3.11/dist-packages (from scikit-learn) (1.14.1)\n",
            "Requirement already satisfied: joblib>=1.2.0 in /usr/local/lib/python3.11/dist-packages (from scikit-learn) (1.4.2)\n",
            "Requirement already satisfied: threadpoolctl>=3.1.0 in /usr/local/lib/python3.11/dist-packages (from scikit-learn) (3.6.0)\n",
            "Requirement already satisfied: spacy-legacy<3.1.0,>=3.0.11 in /usr/local/lib/python3.11/dist-packages (from spacy) (3.0.12)\n",
            "Requirement already satisfied: spacy-loggers<2.0.0,>=1.0.0 in /usr/local/lib/python3.11/dist-packages (from spacy) (1.0.5)\n",
            "Requirement already satisfied: murmurhash<1.1.0,>=0.28.0 in /usr/local/lib/python3.11/dist-packages (from spacy) (1.0.12)\n",
            "Requirement already satisfied: cymem<2.1.0,>=2.0.2 in /usr/local/lib/python3.11/dist-packages (from spacy) (2.0.11)\n",
            "Requirement already satisfied: preshed<3.1.0,>=3.0.2 in /usr/local/lib/python3.11/dist-packages (from spacy) (3.0.9)\n",
            "Requirement already satisfied: thinc<8.4.0,>=8.3.4 in /usr/local/lib/python3.11/dist-packages (from spacy) (8.3.4)\n",
            "Requirement already satisfied: wasabi<1.2.0,>=0.9.1 in /usr/local/lib/python3.11/dist-packages (from spacy) (1.1.3)\n",
            "Requirement already satisfied: srsly<3.0.0,>=2.4.3 in /usr/local/lib/python3.11/dist-packages (from spacy) (2.5.1)\n",
            "Requirement already satisfied: catalogue<2.1.0,>=2.0.6 in /usr/local/lib/python3.11/dist-packages (from spacy) (2.0.10)\n",
            "Requirement already satisfied: weasel<0.5.0,>=0.1.0 in /usr/local/lib/python3.11/dist-packages (from spacy) (0.4.1)\n",
            "Requirement already satisfied: typer<1.0.0,>=0.3.0 in /usr/local/lib/python3.11/dist-packages (from spacy) (0.15.2)\n",
            "Requirement already satisfied: pydantic!=1.8,!=1.8.1,<3.0.0,>=1.7.4 in /usr/local/lib/python3.11/dist-packages (from spacy) (2.10.6)\n",
            "Requirement already satisfied: jinja2 in /usr/local/lib/python3.11/dist-packages (from spacy) (3.1.6)\n",
            "Requirement already satisfied: langcodes<4.0.0,>=3.2.0 in /usr/local/lib/python3.11/dist-packages (from spacy) (3.5.0)\n",
            "Requirement already satisfied: wheel<1.0,>=0.23.0 in /usr/local/lib/python3.11/dist-packages (from astunparse>=1.6.0->tensorflow) (0.45.1)\n",
            "Requirement already satisfied: aiohappyeyeballs>=2.3.0 in /usr/local/lib/python3.11/dist-packages (from aiohttp->datasets) (2.6.1)\n",
            "Requirement already satisfied: aiosignal>=1.1.2 in /usr/local/lib/python3.11/dist-packages (from aiohttp->datasets) (1.3.2)\n",
            "Requirement already satisfied: attrs>=17.3.0 in /usr/local/lib/python3.11/dist-packages (from aiohttp->datasets) (25.3.0)\n",
            "Requirement already satisfied: frozenlist>=1.1.1 in /usr/local/lib/python3.11/dist-packages (from aiohttp->datasets) (1.5.0)\n",
            "Requirement already satisfied: multidict<7.0,>=4.5 in /usr/local/lib/python3.11/dist-packages (from aiohttp->datasets) (6.2.0)\n",
            "Requirement already satisfied: propcache>=0.2.0 in /usr/local/lib/python3.11/dist-packages (from aiohttp->datasets) (0.3.0)\n",
            "Requirement already satisfied: yarl<2.0,>=1.17.0 in /usr/local/lib/python3.11/dist-packages (from aiohttp->datasets) (1.18.3)\n",
            "Requirement already satisfied: rich in /usr/local/lib/python3.11/dist-packages (from keras>=3.5.0->tensorflow) (13.9.4)\n",
            "Requirement already satisfied: namex in /usr/local/lib/python3.11/dist-packages (from keras>=3.5.0->tensorflow) (0.0.8)\n",
            "Requirement already satisfied: optree in /usr/local/lib/python3.11/dist-packages (from keras>=3.5.0->tensorflow) (0.14.1)\n",
            "Requirement already satisfied: language-data>=1.2 in /usr/local/lib/python3.11/dist-packages (from langcodes<4.0.0,>=3.2.0->spacy) (1.3.0)\n",
            "Requirement already satisfied: annotated-types>=0.6.0 in /usr/local/lib/python3.11/dist-packages (from pydantic!=1.8,!=1.8.1,<3.0.0,>=1.7.4->spacy) (0.7.0)\n",
            "Requirement already satisfied: pydantic-core==2.27.2 in /usr/local/lib/python3.11/dist-packages (from pydantic!=1.8,!=1.8.1,<3.0.0,>=1.7.4->spacy) (2.27.2)\n",
            "Requirement already satisfied: charset-normalizer<4,>=2 in /usr/local/lib/python3.11/dist-packages (from requests>=2.32.2->datasets) (3.4.1)\n",
            "Requirement already satisfied: idna<4,>=2.5 in /usr/local/lib/python3.11/dist-packages (from requests>=2.32.2->datasets) (3.10)\n",
            "Requirement already satisfied: urllib3<3,>=1.21.1 in /usr/local/lib/python3.11/dist-packages (from requests>=2.32.2->datasets) (2.3.0)\n",
            "Requirement already satisfied: certifi>=2017.4.17 in /usr/local/lib/python3.11/dist-packages (from requests>=2.32.2->datasets) (2025.1.31)\n",
            "Requirement already satisfied: markdown>=2.6.8 in /usr/local/lib/python3.11/dist-packages (from tensorboard<2.19,>=2.18->tensorflow) (3.7)\n",
            "Requirement already satisfied: tensorboard-data-server<0.8.0,>=0.7.0 in /usr/local/lib/python3.11/dist-packages (from tensorboard<2.19,>=2.18->tensorflow) (0.7.2)\n",
            "Requirement already satisfied: werkzeug>=1.0.1 in /usr/local/lib/python3.11/dist-packages (from tensorboard<2.19,>=2.18->tensorflow) (3.1.3)\n",
            "Requirement already satisfied: blis<1.3.0,>=1.2.0 in /usr/local/lib/python3.11/dist-packages (from thinc<8.4.0,>=8.3.4->spacy) (1.2.0)\n",
            "Requirement already satisfied: confection<1.0.0,>=0.0.1 in /usr/local/lib/python3.11/dist-packages (from thinc<8.4.0,>=8.3.4->spacy) (0.1.5)\n",
            "Requirement already satisfied: click>=8.0.0 in /usr/local/lib/python3.11/dist-packages (from typer<1.0.0,>=0.3.0->spacy) (8.1.8)\n",
            "Requirement already satisfied: shellingham>=1.3.0 in /usr/local/lib/python3.11/dist-packages (from typer<1.0.0,>=0.3.0->spacy) (1.5.4)\n",
            "Requirement already satisfied: cloudpathlib<1.0.0,>=0.7.0 in /usr/local/lib/python3.11/dist-packages (from weasel<0.5.0,>=0.1.0->spacy) (0.21.0)\n",
            "Requirement already satisfied: smart-open<8.0.0,>=5.2.1 in /usr/local/lib/python3.11/dist-packages (from weasel<0.5.0,>=0.1.0->spacy) (7.1.0)\n",
            "Requirement already satisfied: MarkupSafe>=2.0 in /usr/local/lib/python3.11/dist-packages (from jinja2->spacy) (3.0.2)\n",
            "Requirement already satisfied: python-dateutil>=2.8.2 in /usr/local/lib/python3.11/dist-packages (from pandas->datasets) (2.8.2)\n",
            "Requirement already satisfied: pytz>=2020.1 in /usr/local/lib/python3.11/dist-packages (from pandas->datasets) (2025.1)\n",
            "Requirement already satisfied: tzdata>=2022.7 in /usr/local/lib/python3.11/dist-packages (from pandas->datasets) (2025.1)\n",
            "Requirement already satisfied: marisa-trie>=1.1.0 in /usr/local/lib/python3.11/dist-packages (from language-data>=1.2->langcodes<4.0.0,>=3.2.0->spacy) (1.2.1)\n",
            "Requirement already satisfied: markdown-it-py>=2.2.0 in /usr/local/lib/python3.11/dist-packages (from rich->keras>=3.5.0->tensorflow) (3.0.0)\n",
            "Requirement already satisfied: pygments<3.0.0,>=2.13.0 in /usr/local/lib/python3.11/dist-packages (from rich->keras>=3.5.0->tensorflow) (2.18.0)\n",
            "Requirement already satisfied: mdurl~=0.1 in /usr/local/lib/python3.11/dist-packages (from markdown-it-py>=2.2.0->rich->keras>=3.5.0->tensorflow) (0.1.2)\n"
          ]
        }
      ],
      "source": [
        "!pip install datasets transformers datasets tensorflow numpy scikit-learn spacy\n"
      ]
    },
    {
      "cell_type": "code",
      "execution_count": 2,
      "metadata": {
        "colab": {
          "base_uri": "https://localhost:8080/"
        },
        "id": "bekBccIr9NHv",
        "outputId": "c116375d-e005-49c8-c438-ca0bddc4fe1d"
      },
      "outputs": [
        {
          "output_type": "stream",
          "name": "stdout",
          "text": [
            "Collecting en-core-web-sm==3.8.0\n",
            "  Downloading https://github.com/explosion/spacy-models/releases/download/en_core_web_sm-3.8.0/en_core_web_sm-3.8.0-py3-none-any.whl (12.8 MB)\n",
            "\u001b[2K     \u001b[90m━━━━━━━━━━━━━━━━━━━━━━━━━━━━━━━━━━━━━━━━\u001b[0m \u001b[32m12.8/12.8 MB\u001b[0m \u001b[31m51.7 MB/s\u001b[0m eta \u001b[36m0:00:00\u001b[0m\n",
            "\u001b[?25h\u001b[38;5;2m✔ Download and installation successful\u001b[0m\n",
            "You can now load the package via spacy.load('en_core_web_sm')\n",
            "\u001b[38;5;3m⚠ Restart to reload dependencies\u001b[0m\n",
            "If you are in a Jupyter or Colab notebook, you may need to restart Python in\n",
            "order to load all the package's dependencies. You can do this by selecting the\n",
            "'Restart kernel' or 'Restart runtime' option.\n"
          ]
        }
      ],
      "source": [
        "!python -m spacy download en_core_web_sm"
      ]
    },
    {
      "cell_type": "markdown",
      "metadata": {
        "id": "1GltN5VOKSAo"
      },
      "source": [
        "# **Loading the Dataset**\n",
        "[Dataset Link](https://huggingface.co/datasets/google-research-datasets/go_emotions/tree/main)"
      ]
    },
    {
      "cell_type": "code",
      "execution_count": 3,
      "metadata": {
        "colab": {
          "base_uri": "https://localhost:8080/"
        },
        "collapsed": true,
        "id": "VAs11k5J6O-y",
        "outputId": "a014e3c0-8162-4ce7-921c-26a029e31692"
      },
      "outputs": [
        {
          "output_type": "stream",
          "name": "stderr",
          "text": [
            "/usr/local/lib/python3.11/dist-packages/huggingface_hub/utils/_auth.py:94: UserWarning: \n",
            "The secret `HF_TOKEN` does not exist in your Colab secrets.\n",
            "To authenticate with the Hugging Face Hub, create a token in your settings tab (https://huggingface.co/settings/tokens), set it as secret in your Google Colab and restart your session.\n",
            "You will be able to reuse this secret in all of your notebooks.\n",
            "Please note that authentication is recommended but still optional to access public models or datasets.\n",
            "  warnings.warn(\n"
          ]
        },
        {
          "output_type": "stream",
          "name": "stdout",
          "text": [
            "DatasetDict({\n",
            "    train: Dataset({\n",
            "        features: ['text', 'labels', 'id'],\n",
            "        num_rows: 800\n",
            "    })\n",
            "    validation: Dataset({\n",
            "        features: ['text', 'labels', 'id'],\n",
            "        num_rows: 100\n",
            "    })\n",
            "    test: Dataset({\n",
            "        features: ['text', 'labels', 'id'],\n",
            "        num_rows: 100\n",
            "    })\n",
            "})\n"
          ]
        }
      ],
      "source": [
        "from datasets import load_dataset\n",
        "\n",
        "go_emo = load_dataset(\"go_emotions\", \"simplified\",\n",
        "                          split={\n",
        "                              'train': 'train[:800]',\n",
        "                              'validation': 'validation[:100]',\n",
        "                              'test': 'test[:100]'\n",
        "                          })\n",
        "print(go_emo)"
      ]
    },
    {
      "cell_type": "markdown",
      "metadata": {
        "id": "WF51bhCkZqiZ"
      },
      "source": [
        "# **Data Analysis**"
      ]
    },
    {
      "cell_type": "code",
      "execution_count": 4,
      "metadata": {
        "colab": {
          "base_uri": "https://localhost:8080/"
        },
        "collapsed": true,
        "id": "OrWnBzjNZuSA",
        "outputId": "e4d3db3a-b358-4518-bb32-4895dbc4df9b"
      },
      "outputs": [
        {
          "output_type": "stream",
          "name": "stdout",
          "text": [
            "                                                text labels       id\n",
            "0  My favourite food is anything I didn't have to...   [27]  eebbqej\n",
            "1  Now if he does off himself, everyone will thin...   [27]  ed00q6i\n",
            "2                     WHY THE FUCK IS BAYLESS ISOING    [2]  eezlygj\n",
            "3                        To make her feel threatened   [14]  ed7ypvh\n",
            "4                             Dirty Southern Wankers    [3]  ed0bdzj\n",
            "                                                text labels       id\n",
            "0  I’m really sorry about your situation :( Altho...   [25]  eecwqtt\n",
            "1    It's wonderful because it's awful. At not with.    [0]  ed5f85d\n",
            "2  Kings fan here, good luck to you guys! Will be...   [13]  een27c3\n",
            "3  I didn't know that, thank you for teaching me ...   [15]  eelgwd1\n",
            "4  They got bored from haunting earth for thousan...   [27]  eem5uti\n",
            "                                                text   labels       id\n",
            "0  Is this in New Orleans?? I really feel like th...     [27]  edgurhb\n",
            "1  You know the answer man, you are programmed to...  [4, 27]  ee84bjg\n",
            "2               I've never been this sad in my life!     [25]  edcu99z\n",
            "3  The economy is heavily controlled and subsidiz...  [4, 27]  edc32e2\n",
            "4  He could have easily taken a real camera from ...     [20]  eepig6r\n"
          ]
        }
      ],
      "source": [
        "df_train = go_emo[\"train\"].to_pandas()\n",
        "df_test = go_emo[\"test\"].to_pandas()\n",
        "df_val = go_emo[\"validation\"].to_pandas()\n",
        "\n",
        "print(df_train.head())\n",
        "print(df_test.head())\n",
        "print(df_val.head())"
      ]
    },
    {
      "cell_type": "markdown",
      "metadata": {
        "id": "u8mffrnK3fQb"
      },
      "source": [
        "# Splitting Dataset"
      ]
    },
    {
      "cell_type": "code",
      "execution_count": 5,
      "metadata": {
        "id": "OafuQNQK3iQM"
      },
      "outputs": [],
      "source": [
        "# from sklearn.model_selection import train_test_split\n",
        "# import pandas as pd\n",
        "\n",
        "# # Combine all data into a single DataFrame for splitting\n",
        "# all_data = pd.concat([df_train, df_val, df_test], ignore_index=True)\n",
        "\n",
        "# # Split the combined data into 80% training, 10% validation, and 10% test\n",
        "# train_df, temp_df = train_test_split(all_data, test_size=0.2, random_state=42)\n",
        "# val_df, test_df = train_test_split(temp_df, test_size=0.5, random_state=42)\n"
      ]
    },
    {
      "cell_type": "markdown",
      "metadata": {
        "id": "Jum6zjCNd-SA"
      },
      "source": [
        "# Check Missing value"
      ]
    },
    {
      "cell_type": "code",
      "execution_count": 6,
      "metadata": {
        "colab": {
          "base_uri": "https://localhost:8080/"
        },
        "id": "vgbu5mD1b-AQ",
        "outputId": "dde90035-ddcb-400d-84c0-eb75b32ba024"
      },
      "outputs": [
        {
          "output_type": "stream",
          "name": "stdout",
          "text": [
            "Train Split Missing Values:\n",
            "text      0\n",
            "labels    0\n",
            "id        0\n",
            "dtype: int64\n",
            "\n",
            "Test Split Missing Values:\n",
            "text      0\n",
            "labels    0\n",
            "id        0\n",
            "dtype: int64\n",
            "\n",
            "Validation Split Missing Values:\n",
            "text      0\n",
            "labels    0\n",
            "id        0\n",
            "dtype: int64\n"
          ]
        }
      ],
      "source": [
        "# Check missing values in the train split\n",
        "print(\"Train Split Missing Values:\")\n",
        "print(df_train.isnull().sum())\n",
        "\n",
        "# Check missing values in the test split\n",
        "print(\"\\nTest Split Missing Values:\")\n",
        "print(df_test.isnull().sum())\n",
        "\n",
        "# Check missing values in the validation split\n",
        "print(\"\\nValidation Split Missing Values:\")\n",
        "print(df_val.isnull().sum())"
      ]
    },
    {
      "cell_type": "markdown",
      "metadata": {
        "id": "eUA9d2tIce9n"
      },
      "source": [
        "# **Cleaning Data**"
      ]
    },
    {
      "cell_type": "code",
      "execution_count": 7,
      "metadata": {
        "colab": {
          "base_uri": "https://localhost:8080/"
        },
        "id": "0cPnThKgchw3",
        "outputId": "4ecfe49e-3b92-4441-87c6-797b6af6d578"
      },
      "outputs": [
        {
          "output_type": "stream",
          "name": "stdout",
          "text": [
            "Train Split:\n",
            "                                                text labels\n",
            "0  My favourite food is anything I didn't have to...   [27]\n",
            "1  Now if he does off himself, everyone will thin...   [27]\n",
            "2                     WHY THE FUCK IS BAYLESS ISOING    [2]\n",
            "3                        To make her feel threatened   [14]\n",
            "4                             Dirty Southern Wankers    [3]\n",
            "Test Split:\n",
            "                                                text labels\n",
            "0  I’m really sorry about your situation :( Altho...   [25]\n",
            "1    It's wonderful because it's awful. At not with.    [0]\n",
            "2  Kings fan here, good luck to you guys! Will be...   [13]\n",
            "3  I didn't know that, thank you for teaching me ...   [15]\n",
            "4  They got bored from haunting earth for thousan...   [27]\n",
            "Validation Split:\n",
            "                                                text   labels\n",
            "0  Is this in New Orleans?? I really feel like th...     [27]\n",
            "1  You know the answer man, you are programmed to...  [4, 27]\n",
            "2               I've never been this sad in my life!     [25]\n",
            "3  The economy is heavily controlled and subsidiz...  [4, 27]\n",
            "4  He could have easily taken a real camera from ...     [20]\n"
          ]
        }
      ],
      "source": [
        "#Drop the 'id' column\n",
        "df_train.drop(columns=[\"id\"], inplace=True)\n",
        "df_test.drop(columns=[\"id\"], inplace=True)\n",
        "df_val.drop(columns=[\"id\"], inplace=True)\n",
        "\n",
        "print(\"Train Split:\")\n",
        "print(df_train.head())\n",
        "print(\"Test Split:\")\n",
        "print(df_test.head())\n",
        "print(\"Validation Split:\")\n",
        "print(df_val.head())"
      ]
    },
    {
      "cell_type": "markdown",
      "metadata": {
        "id": "sCdNBBg0ddyX"
      },
      "source": [
        "# **Map Label Indices to Emotion Names**"
      ]
    },
    {
      "cell_type": "code",
      "execution_count": 8,
      "metadata": {
        "id": "mDZWU8SSdi0Q",
        "colab": {
          "base_uri": "https://localhost:8080/"
        },
        "outputId": "ebcb4469-e750-43b0-d386-1d9f69c3f011"
      },
      "outputs": [
        {
          "output_type": "stream",
          "name": "stdout",
          "text": [
            "Training Split:\n",
            "                                                text labels     emotions\n",
            "0  My favourite food is anything I didn't have to...   [27]    [neutral]\n",
            "1  Now if he does off himself, everyone will thin...   [27]    [neutral]\n",
            "2                     WHY THE FUCK IS BAYLESS ISOING    [2]      [anger]\n",
            "3                        To make her feel threatened   [14]       [fear]\n",
            "4                             Dirty Southern Wankers    [3]  [annoyance]\n",
            "Testing Split:\n",
            "                                                text labels      emotions\n",
            "0  I’m really sorry about your situation :( Altho...   [25]     [sadness]\n",
            "1    It's wonderful because it's awful. At not with.    [0]  [admiration]\n",
            "2  Kings fan here, good luck to you guys! Will be...   [13]  [excitement]\n",
            "3  I didn't know that, thank you for teaching me ...   [15]   [gratitude]\n",
            "4  They got bored from haunting earth for thousan...   [27]     [neutral]\n",
            "Validation Split:\n",
            "                                                text   labels  \\\n",
            "0  Is this in New Orleans?? I really feel like th...     [27]   \n",
            "1  You know the answer man, you are programmed to...  [4, 27]   \n",
            "2               I've never been this sad in my life!     [25]   \n",
            "3  The economy is heavily controlled and subsidiz...  [4, 27]   \n",
            "4  He could have easily taken a real camera from ...     [20]   \n",
            "\n",
            "              emotions  \n",
            "0            [neutral]  \n",
            "1  [approval, neutral]  \n",
            "2            [sadness]  \n",
            "3  [approval, neutral]  \n",
            "4           [optimism]  \n"
          ]
        }
      ],
      "source": [
        "# Get the emotion labels\n",
        "emotion_labels = go_emo[\"train\"].features[\"labels\"].feature.names\n",
        "\n",
        "# Function to map label indices to emotion names\n",
        "def map_labels_to_emotions(label_indices):\n",
        "    return [emotion_labels[idx] for idx in label_indices]\n",
        "\n",
        "# Apply the mapping to each DataFrame\n",
        "df_train[\"emotions\"] = df_train[\"labels\"].apply(map_labels_to_emotions)\n",
        "df_val[\"emotions\"] = df_val[\"labels\"].apply(map_labels_to_emotions)\n",
        "df_test[\"emotions\"] = df_test[\"labels\"].apply(map_labels_to_emotions)\n",
        "\n",
        "print(\"Training Split:\")\n",
        "print(df_train.head())\n",
        "print(\"Testing Split:\")\n",
        "print(df_test.head())\n",
        "print(\"Validation Split:\")\n",
        "print(df_val.head())"
      ]
    },
    {
      "cell_type": "markdown",
      "metadata": {
        "id": "8GlWMC3AiAK9"
      },
      "source": [
        "# **Frequency of each emotion in the dataset**"
      ]
    },
    {
      "cell_type": "code",
      "execution_count": 9,
      "metadata": {
        "colab": {
          "base_uri": "https://localhost:8080/",
          "height": 0
        },
        "id": "x5WjgAqMiEcG",
        "outputId": "9b6bbb0c-b763-4804-c094-1b8c12e26472"
      },
      "outputs": [
        {
          "output_type": "display_data",
          "data": {
            "text/plain": [
              "<Figure size 1000x800 with 2 Axes>"
            ],
            "image/png": "[encoded data removed]"
          },
          "metadata": {}
        }
      ],
      "source": [
        "import pandas as pd\n",
        "import seaborn as sns\n",
        "import matplotlib.pyplot as plt\n",
        "\n",
        "# Count the frequency of each emotion in each split\n",
        "def count_emotions(df):\n",
        "    emotion_counts = {}\n",
        "    for emotions in df[\"emotions\"]:\n",
        "        for emotion in emotions:\n",
        "            if emotion in emotion_counts:\n",
        "                emotion_counts[emotion] += 1\n",
        "            else:\n",
        "                emotion_counts[emotion] = 1\n",
        "    return emotion_counts\n",
        "\n",
        "# Get emotion counts for each split\n",
        "train_counts = count_emotions(df_train)\n",
        "val_counts = count_emotions(df_val)\n",
        "test_counts = count_emotions(df_test)\n",
        "\n",
        "# Convert counts to DataFrames\n",
        "train_counts_df = pd.DataFrame(list(train_counts.items()), columns=[\"Emotion\", \"Train\"])\n",
        "val_counts_df = pd.DataFrame(list(val_counts.items()), columns=[\"Emotion\", \"Validation\"])\n",
        "test_counts_df = pd.DataFrame(list(test_counts.items()), columns=[\"Emotion\", \"Test\"])\n",
        "\n",
        "# Merge the counts into a single DataFrame\n",
        "counts_df = train_counts_df.merge(val_counts_df, on=\"Emotion\").merge(test_counts_df, on=\"Emotion\")\n",
        "counts_df.set_index(\"Emotion\", inplace=True)\n",
        "\n",
        "# Normalize the counts\n",
        "counts_df[\"Train\"] = counts_df[\"Train\"] / len(df_train)\n",
        "counts_df[\"Validation\"] = counts_df[\"Validation\"] / len(df_val)\n",
        "counts_df[\"Test\"] = counts_df[\"Test\"] / len(df_test)\n",
        "\n",
        "# Plot the heatmap\n",
        "plt.figure(figsize=(10, 8))\n",
        "sns.heatmap(counts_df, annot=True, fmt=\".2f\", cmap=\"YlOrRd\", linewidths=0.5)\n",
        "plt.title(\"Emotion Distribution Across Dataset Splits\")\n",
        "plt.xlabel(\"Dataset Split\")\n",
        "plt.ylabel(\"Emotion\")\n",
        "plt.show()"
      ]
    },
    {
      "cell_type": "markdown",
      "metadata": {
        "id": "rn4aC3vbjCME"
      },
      "source": [
        "# Feature Engineering"
      ]
    },
    {
      "cell_type": "markdown",
      "metadata": {
        "id": "StVnSZVrjJL9"
      },
      "source": [
        "**Lowercasing Data**"
      ]
    },
    {
      "cell_type": "code",
      "execution_count": 10,
      "metadata": {
        "id": "HxJQhP-tjjx8"
      },
      "outputs": [],
      "source": [
        "# df_train[\"text\"] = df_train[\"text\"].str.lower()\n",
        "# df_val[\"text\"] = df_val[\"text\"].str.lower()\n",
        "# df_test[\"text\"] = df_test[\"text\"].str.lower()\n",
        "\n",
        "# df_train.head()\n",
        "# df_test.head()\n",
        "# df_val.head()"
      ]
    },
    {
      "cell_type": "markdown",
      "metadata": {
        "id": "4X1smPyVj8Bc"
      },
      "source": [
        "**Remove Punctuation and Special Characters**"
      ]
    },
    {
      "cell_type": "code",
      "execution_count": 11,
      "metadata": {
        "id": "iksIiiWtj9H7"
      },
      "outputs": [],
      "source": [
        "# import re\n",
        "\n",
        "# def remove_punctuation(text):\n",
        "#     return re.sub(r\"[^\\w\\s]\", \"\", text)\n",
        "\n",
        "# df_train[\"text\"] = df_train[\"text\"].apply(remove_punctuation)\n",
        "# df_val[\"text\"] = df_val[\"text\"].apply(remove_punctuation)\n",
        "# df_test[\"text\"] = df_test[\"text\"].apply(remove_punctuation)\n",
        "\n",
        "# df_train.head()\n",
        "# df_test.head()\n",
        "# df_val.head()"
      ]
    },
    {
      "cell_type": "markdown",
      "metadata": {
        "id": "oQ0mZiMjkRrU"
      },
      "source": [
        "**Remove Stopwords**"
      ]
    },
    {
      "cell_type": "code",
      "execution_count": 12,
      "metadata": {
        "colab": {
          "base_uri": "https://localhost:8080/",
          "height": 242
        },
        "id": "xT-hqidwkTD0",
        "outputId": "c181426f-b8fe-4170-f14f-b7ad34055016"
      },
      "outputs": [
        {
          "output_type": "stream",
          "name": "stderr",
          "text": [
            "[nltk_data] Downloading package stopwords to /root/nltk_data...\n",
            "[nltk_data]   Package stopwords is already up-to-date!\n"
          ]
        },
        {
          "output_type": "execute_result",
          "data": {
            "text/plain": [
              "                                                text   labels  \\\n",
              "0   Is New Orleans?? I really feel like New Orleans.     [27]   \n",
              "1  You know answer man, programmed capture codes ...  [4, 27]   \n",
              "2                               I've never sad life!     [25]   \n",
              "3  The economy heavily controlled subsidized gove...  [4, 27]   \n",
              "4  He could easily taken real camera legitimate s...     [20]   \n",
              "\n",
              "              emotions  \n",
              "0            [neutral]  \n",
              "1  [approval, neutral]  \n",
              "2            [sadness]  \n",
              "3  [approval, neutral]  \n",
              "4           [optimism]  "
            ],
            "text/html": [
              "\n",
              "  <div id=\"df-18142531-8272-4cfd-8b3d-d56b055b2c8c\" class=\"colab-df-container\">\n",
              "    <div>\n",
              "<style scoped>\n",
              "    .dataframe tbody tr th:only-of-type {\n",
              "        vertical-align: middle;\n",
              "    }\n",
              "\n",
              "    .dataframe tbody tr th {\n",
              "        vertical-align: top;\n",
              "    }\n",
              "\n",
              "    .dataframe thead th {\n",
              "        text-align: right;\n",
              "    }\n",
              "</style>\n",
              "<table border=\"1\" class=\"dataframe\">\n",
              "  <thead>\n",
              "    <tr style=\"text-align: right;\">\n",
              "      <th></th>\n",
              "      <th>text</th>\n",
              "      <th>labels</th>\n",
              "      <th>emotions</th>\n",
              "    </tr>\n",
              "  </thead>\n",
              "  <tbody>\n",
              "    <tr>\n",
              "      <th>0</th>\n",
              "      <td>Is New Orleans?? I really feel like New Orleans.</td>\n",
              "      <td>[27]</td>\n",
              "      <td>[neutral]</td>\n",
              "    </tr>\n",
              "    <tr>\n",
              "      <th>1</th>\n",
              "      <td>You know answer man, programmed capture codes ...</td>\n",
              "      <td>[4, 27]</td>\n",
              "      <td>[approval, neutral]</td>\n",
              "    </tr>\n",
              "    <tr>\n",
              "      <th>2</th>\n",
              "      <td>I've never sad life!</td>\n",
              "      <td>[25]</td>\n",
              "      <td>[sadness]</td>\n",
              "    </tr>\n",
              "    <tr>\n",
              "      <th>3</th>\n",
              "      <td>The economy heavily controlled subsidized gove...</td>\n",
              "      <td>[4, 27]</td>\n",
              "      <td>[approval, neutral]</td>\n",
              "    </tr>\n",
              "    <tr>\n",
              "      <th>4</th>\n",
              "      <td>He could easily taken real camera legitimate s...</td>\n",
              "      <td>[20]</td>\n",
              "      <td>[optimism]</td>\n",
              "    </tr>\n",
              "  </tbody>\n",
              "</table>\n",
              "</div>\n",
              "    <div class=\"colab-df-buttons\">\n",
              "\n",
              "  <div class=\"colab-df-container\">\n",
              "    <button class=\"colab-df-convert\" onclick=\"convertToInteractive('df-18142531-8272-4cfd-8b3d-d56b055b2c8c')\"\n",
              "            title=\"Convert this dataframe to an interactive table.\"\n",
              "            style=\"display:none;\">\n",
              "\n",
              "  <svg xmlns=\"http://www.w3.org/2000/svg\" height=\"24px\" viewBox=\"0 -960 960 960\">\n",
              "    <path d=\"M120-120v-720h720v720H120Zm60-500h600v-160H180v160Zm220 220h160v-160H400v160Zm0 220h160v-160H400v160ZM180-400h160v-160H180v160Zm440 0h160v-160H620v160ZM180-180h160v-160H180v160Zm440 0h160v-160H620v160Z\"/>\n",
              "  </svg>\n",
              "    </button>\n",
              "\n",
              "  <style>\n",
              "    .colab-df-container {\n",
              "      display:flex;\n",
              "      gap: 12px;\n",
              "    }\n",
              "\n",
              "    .colab-df-convert {\n",
              "      background-color: #E8F0FE;\n",
              "      border: none;\n",
              "      border-radius: 50%;\n",
              "      cursor: pointer;\n",
              "      display: none;\n",
              "      fill: #1967D2;\n",
              "      height: 32px;\n",
              "      padding: 0 0 0 0;\n",
              "      width: 32px;\n",
              "    }\n",
              "\n",
              "    .colab-df-convert:hover {\n",
              "      background-color: #E2EBFA;\n",
              "      box-shadow: 0px 1px 2px rgba(60, 64, 67, 0.3), 0px 1px 3px 1px rgba(60, 64, 67, 0.15);\n",
              "      fill: #174EA6;\n",
              "    }\n",
              "\n",
              "    .colab-df-buttons div {\n",
              "      margin-bottom: 4px;\n",
              "    }\n",
              "\n",
              "    [theme=dark] .colab-df-convert {\n",
              "      background-color: #3B4455;\n",
              "      fill: #D2E3FC;\n",
              "    }\n",
              "\n",
              "    [theme=dark] .colab-df-convert:hover {\n",
              "      background-color: #434B5C;\n",
              "      box-shadow: 0px 1px 3px 1px rgba(0, 0, 0, 0.15);\n",
              "      filter: drop-shadow(0px 1px 2px rgba(0, 0, 0, 0.3));\n",
              "      fill: #FFFFFF;\n",
              "    }\n",
              "  </style>\n",
              "\n",
              "    <script>\n",
              "      const buttonEl =\n",
              "        document.querySelector('#df-18142531-8272-4cfd-8b3d-d56b055b2c8c button.colab-df-convert');\n",
              "      buttonEl.style.display =\n",
              "        google.colab.kernel.accessAllowed ? 'block' : 'none';\n",
              "\n",
              "      async function convertToInteractive(key) {\n",
              "        const element = document.querySelector('#df-18142531-8272-4cfd-8b3d-d56b055b2c8c');\n",
              "        const dataTable =\n",
              "          await google.colab.kernel.invokeFunction('convertToInteractive',\n",
              "                                                    [key], {});\n",
              "        if (!dataTable) return;\n",
              "\n",
              "        const docLinkHtml = 'Like what you see? Visit the ' +\n",
              "          '<a target=\"_blank\" href=https://colab.research.google.com/notebooks/data_table.ipynb>data table notebook</a>'\n",
              "          + ' to learn more about interactive tables.';\n",
              "        element.innerHTML = '';\n",
              "        dataTable['output_type'] = 'display_data';\n",
              "        await google.colab.output.renderOutput(dataTable, element);\n",
              "        const docLink = document.createElement('div');\n",
              "        docLink.innerHTML = docLinkHtml;\n",
              "        element.appendChild(docLink);\n",
              "      }\n",
              "    </script>\n",
              "  </div>\n",
              "\n",
              "\n",
              "<div id=\"df-51bd10fe-cbd3-4196-8056-cd1cff464852\">\n",
              "  <button class=\"colab-df-quickchart\" onclick=\"quickchart('df-51bd10fe-cbd3-4196-8056-cd1cff464852')\"\n",
              "            title=\"Suggest charts\"\n",
              "            style=\"display:none;\">\n",
              "\n",
              "<svg xmlns=\"http://www.w3.org/2000/svg\" height=\"24px\"viewBox=\"0 0 24 24\"\n",
              "     width=\"24px\">\n",
              "    <g>\n",
              "        <path d=\"M19 3H5c-1.1 0-2 .9-2 2v14c0 1.1.9 2 2 2h14c1.1 0 2-.9 2-2V5c0-1.1-.9-2-2-2zM9 17H7v-7h2v7zm4 0h-2V7h2v10zm4 0h-2v-4h2v4z\"/>\n",
              "    </g>\n",
              "</svg>\n",
              "  </button>\n",
              "\n",
              "<style>\n",
              "  .colab-df-quickchart {\n",
              "      --bg-color: #E8F0FE;\n",
              "      --fill-color: #1967D2;\n",
              "      --hover-bg-color: #E2EBFA;\n",
              "      --hover-fill-color: #174EA6;\n",
              "      --disabled-fill-color: #AAA;\n",
              "      --disabled-bg-color: #DDD;\n",
              "  }\n",
              "\n",
              "  [theme=dark] .colab-df-quickchart {\n",
              "      --bg-color: #3B4455;\n",
              "      --fill-color: #D2E3FC;\n",
              "      --hover-bg-color: #434B5C;\n",
              "      --hover-fill-color: #FFFFFF;\n",
              "      --disabled-bg-color: #3B4455;\n",
              "      --disabled-fill-color: #666;\n",
              "  }\n",
              "\n",
              "  .colab-df-quickchart {\n",
              "    background-color: var(--bg-color);\n",
              "    border: none;\n",
              "    border-radius: 50%;\n",
              "    cursor: pointer;\n",
              "    display: none;\n",
              "    fill: var(--fill-color);\n",
              "    height: 32px;\n",
              "    padding: 0;\n",
              "    width: 32px;\n",
              "  }\n",
              "\n",
              "  .colab-df-quickchart:hover {\n",
              "    background-color: var(--hover-bg-color);\n",
              "    box-shadow: 0 1px 2px rgba(60, 64, 67, 0.3), 0 1px 3px 1px rgba(60, 64, 67, 0.15);\n",
              "    fill: var(--button-hover-fill-color);\n",
              "  }\n",
              "\n",
              "  .colab-df-quickchart-complete:disabled,\n",
              "  .colab-df-quickchart-complete:disabled:hover {\n",
              "    background-color: var(--disabled-bg-color);\n",
              "    fill: var(--disabled-fill-color);\n",
              "    box-shadow: none;\n",
              "  }\n",
              "\n",
              "  .colab-df-spinner {\n",
              "    border: 2px solid var(--fill-color);\n",
              "    border-color: transparent;\n",
              "    border-bottom-color: var(--fill-color);\n",
              "    animation:\n",
              "      spin 1s steps(1) infinite;\n",
              "  }\n",
              "\n",
              "  @keyframes spin {\n",
              "    0% {\n",
              "      border-color: transparent;\n",
              "      border-bottom-color: var(--fill-color);\n",
              "      border-left-color: var(--fill-color);\n",
              "    }\n",
              "    20% {\n",
              "      border-color: transparent;\n",
              "      border-left-color: var(--fill-color);\n",
              "      border-top-color: var(--fill-color);\n",
              "    }\n",
              "    30% {\n",
              "      border-color: transparent;\n",
              "      border-left-color: var(--fill-color);\n",
              "      border-top-color: var(--fill-color);\n",
              "      border-right-color: var(--fill-color);\n",
              "    }\n",
              "    40% {\n",
              "      border-color: transparent;\n",
              "      border-right-color: var(--fill-color);\n",
              "      border-top-color: var(--fill-color);\n",
              "    }\n",
              "    60% {\n",
              "      border-color: transparent;\n",
              "      border-right-color: var(--fill-color);\n",
              "    }\n",
              "    80% {\n",
              "      border-color: transparent;\n",
              "      border-right-color: var(--fill-color);\n",
              "      border-bottom-color: var(--fill-color);\n",
              "    }\n",
              "    90% {\n",
              "      border-color: transparent;\n",
              "      border-bottom-color: var(--fill-color);\n",
              "    }\n",
              "  }\n",
              "</style>\n",
              "\n",
              "  <script>\n",
              "    async function quickchart(key) {\n",
              "      const quickchartButtonEl =\n",
              "        document.querySelector('#' + key + ' button');\n",
              "      quickchartButtonEl.disabled = true;  // To prevent multiple clicks.\n",
              "      quickchartButtonEl.classList.add('colab-df-spinner');\n",
              "      try {\n",
              "        const charts = await google.colab.kernel.invokeFunction(\n",
              "            'suggestCharts', [key], {});\n",
              "      } catch (error) {\n",
              "        console.error('Error during call to suggestCharts:', error);\n",
              "      }\n",
              "      quickchartButtonEl.classList.remove('colab-df-spinner');\n",
              "      quickchartButtonEl.classList.add('colab-df-quickchart-complete');\n",
              "    }\n",
              "    (() => {\n",
              "      let quickchartButtonEl =\n",
              "        document.querySelector('#df-51bd10fe-cbd3-4196-8056-cd1cff464852 button');\n",
              "      quickchartButtonEl.style.display =\n",
              "        google.colab.kernel.accessAllowed ? 'block' : 'none';\n",
              "    })();\n",
              "  </script>\n",
              "</div>\n",
              "\n",
              "    </div>\n",
              "  </div>\n"
            ],
            "application/vnd.google.colaboratory.intrinsic+json": {
              "type": "dataframe",
              "variable_name": "df_val",
              "summary": "{\n  \"name\": \"df_val\",\n  \"rows\": 100,\n  \"fields\": [\n    {\n      \"column\": \"text\",\n      \"properties\": {\n        \"dtype\": \"string\",\n        \"num_unique_values\": 100,\n        \"samples\": [\n          \"Well I say 100% didn\\u2019t go well.\",\n          \"Does pharmacy I\\u2019ve went to?\",\n          \"This either beautiful..or stupidest thing I've read weeks. Here's hoping fantastic satire!\"\n        ],\n        \"semantic_type\": \"\",\n        \"description\": \"\"\n      }\n    },\n    {\n      \"column\": \"labels\",\n      \"properties\": {\n        \"dtype\": \"object\",\n        \"semantic_type\": \"\",\n        \"description\": \"\"\n      }\n    },\n    {\n      \"column\": \"emotions\",\n      \"properties\": {\n        \"dtype\": \"object\",\n        \"semantic_type\": \"\",\n        \"description\": \"\"\n      }\n    }\n  ]\n}"
            }
          },
          "metadata": {},
          "execution_count": 12
        }
      ],
      "source": [
        "import nltk\n",
        "from nltk.corpus import stopwords\n",
        "\n",
        "nltk.download('stopwords')\n",
        "\n",
        "stop_words = set(stopwords.words(\"english\"))\n",
        "\n",
        "def remove_stopwords(text):\n",
        "    return \" \".join([word for word in text.split() if word not in stop_words])\n",
        "\n",
        "df_train[\"text\"] = df_train[\"text\"].apply(remove_stopwords)\n",
        "df_val[\"text\"] = df_val[\"text\"].apply(remove_stopwords)\n",
        "df_test[\"text\"] = df_test[\"text\"].apply(remove_stopwords)\n",
        "\n",
        "df_train.head()\n",
        "df_test.head()\n",
        "df_val.head()"
      ]
    },
    {
      "cell_type": "markdown",
      "metadata": {
        "id": "1_VjNaq19noW"
      },
      "source": [
        "**Intensifier Handling**"
      ]
    },
    {
      "cell_type": "code",
      "execution_count": 13,
      "metadata": {
        "id": "L4tbXXPX9qwP"
      },
      "outputs": [],
      "source": [
        "# ========== INTENSIFIER HANDLING ==========\n",
        "import spacy\n",
        "nlp = spacy.load(\"en_core_web_sm\")\n",
        "\n",
        "# Preserve intensifiers in text\n",
        "INTENSIFIERS = {'very', 'extremely', 'absolutely', 'highly',\n",
        "               'completely', 'totally', 'utterly', 'somewhat',\n",
        "               'slightly', 'barely', 'quite', 'really'}\n",
        "\n",
        "# Modify stopwords removal\n",
        "stop_words = set(stopwords.words(\"english\")) - INTENSIFIERS\n",
        "\n",
        "# Add intensity metadata\n",
        "def extract_intensity_features(text):\n",
        "    doc = nlp(text)\n",
        "    features = {\n",
        "        'num_intensifiers': 0,\n",
        "        'max_intensity': 1.0,\n",
        "        'weighted_intensity': 1.0\n",
        "    }\n",
        "\n",
        "    for token in doc:\n",
        "        if token.text.lower() in INTENSIFIERS:\n",
        "            features['num_intensifiers'] += 1\n",
        "            intensity = 1.5 if token.text.lower() == 'very' else 1.3  # Example weights\n",
        "            features['max_intensity'] = max(features['max_intensity'], intensity)\n",
        "            features['weighted_intensity'] *= intensity\n",
        "\n",
        "    return features\n",
        "\n",
        "# Apply to all datasets\n",
        "for df in [df_train, df_val, df_test]:\n",
        "    intensity_features = df[\"text\"].apply(extract_intensity_features).apply(pd.Series)\n",
        "    df[[\"num_intensifiers\", \"max_intensity\", \"weighted_intensity\"]] = intensity_features"
      ]
    },
    {
      "cell_type": "markdown",
      "metadata": {
        "id": "JyesYG7EYho6"
      },
      "source": [
        "**Emotion Mapping**"
      ]
    },
    {
      "cell_type": "code",
      "execution_count": 14,
      "metadata": {
        "id": "9uHZJIOTYkC5"
      },
      "outputs": [],
      "source": [
        "# Get emotion labels\n",
        "emotion_labels = go_emo[\"train\"].features[\"labels\"].feature.names\n",
        "\n",
        "# Define the emotion-to-category mapping (all 28 emotions covered)\n",
        "emotion_to_category = {\n",
        "    # Positive (11)\n",
        "    \"admiration\": \"positive\",\n",
        "    \"amusement\": \"positive\",\n",
        "    \"approval\": \"positive\",\n",
        "    \"caring\": \"positive\",\n",
        "    \"desire\": \"positive\",\n",
        "    \"excitement\": \"positive\",\n",
        "    \"gratitude\": \"positive\",\n",
        "    \"joy\": \"positive\",\n",
        "    \"love\": \"positive\",\n",
        "    \"optimism\": \"positive\",\n",
        "    \"pride\": \"positive\",\n",
        "\n",
        "    # Negative (11)\n",
        "    \"anger\": \"negative\",\n",
        "    \"annoyance\": \"negative\",\n",
        "    \"disappointment\": \"negative\",\n",
        "    \"disapproval\": \"negative\",\n",
        "    \"disgust\": \"negative\",\n",
        "    \"embarrassment\": \"negative\",\n",
        "    \"fear\": \"negative\",\n",
        "    \"grief\": \"negative\",\n",
        "    \"nervousness\": \"negative\",\n",
        "    \"remorse\": \"negative\",\n",
        "    \"sadness\": \"negative\",\n",
        "\n",
        "    # Neutral (6)\n",
        "    \"confusion\": \"neutral\",\n",
        "    \"curiosity\": \"neutral\",\n",
        "    \"neutral\": \"neutral\",\n",
        "    \"realization\": \"neutral\",\n",
        "    \"relief\": \"neutral\",\n",
        "    \"surprise\": \"neutral\"\n",
        "}\n",
        "\n",
        "def get_category(labels):\n",
        "    categories = [emotion_to_category[emotion_labels[label]] for label in labels]\n",
        "    return max(set(categories), key=categories.count)  # Pick dominant category\n",
        "\n",
        "# Create 'category' column\n",
        "df_train[\"category\"] = df_train[\"labels\"].apply(get_category)\n",
        "df_val[\"category\"] = df_val[\"labels\"].apply(get_category)\n",
        "df_test[\"category\"] = df_test[\"labels\"].apply(get_category)\n",
        "\n",
        "positive_emotions = [\"joy\", \"admiration\", \"excitement\", \"love\", \"gratitude\", \"optimism\", \"caring\", \"approval\", \"desire\", \"pride\"]\n",
        "negative_emotions = [\"anger\", \"sadness\", \"disgust\", \"fear\", \"annoyance\", \"disapproval\", \"remorse\", \"embarrassment\", \"grief\"]\n",
        "\n",
        "def calculate_scores(labels):\n",
        "    positive = sum(1 for label in labels if emotion_labels[label] in positive_emotions)\n",
        "    negative = sum(1 for label in labels if emotion_labels[label] in negative_emotions)\n",
        "    return positive, negative\n",
        "\n",
        "df_train[[\"positive_score\", \"negative_score\"]] = df_train[\"labels\"].apply(\n",
        "    lambda x: pd.Series(calculate_scores(x)))\n",
        "df_val[[\"positive_score\", \"negative_score\"]] = df_val[\"labels\"].apply(\n",
        "    lambda x: pd.Series(calculate_scores(x)))\n",
        "df_test[[\"positive_score\", \"negative_score\"]] = df_test[\"labels\"].apply(\n",
        "    lambda x: pd.Series(calculate_scores(x)))"
      ]
    },
    {
      "cell_type": "markdown",
      "metadata": {
        "id": "9jb1eDw8kx40"
      },
      "source": [
        "**Tokenization**"
      ]
    },
    {
      "cell_type": "code",
      "execution_count": 15,
      "metadata": {
        "id": "WSLy_Ogvk1z0"
      },
      "outputs": [],
      "source": [
        "# STEP 4: Tokenization\n",
        "from transformers import BertTokenizer\n",
        "import tensorflow as tf\n",
        "\n",
        "MODEL_NAME = \"bert-base-uncased\"\n",
        "tokenizer = BertTokenizer.from_pretrained(MODEL_NAME)\n",
        "\n",
        "\n",
        "def prepare_inputs(text, df):\n",
        "    # Tokenize text with TensorFlow tensors\n",
        "    tokenized = tokenizer(\n",
        "        text.tolist(),\n",
        "        padding=\"max_length\",\n",
        "        truncation=True,\n",
        "        max_length=512,\n",
        "        return_tensors=\"tf\"\n",
        "    )\n",
        "\n",
        "    # Convert intensity features to TensorFlow tensor\n",
        "    intensity_features = tf.convert_to_tensor(\n",
        "        df.loc[text.index, [\"num_intensifiers\", \"max_intensity\", \"weighted_intensity\"]].values,\n",
        "        dtype=tf.float32\n",
        "    )\n",
        "\n",
        "    return {\n",
        "        \"input_ids\": tokenized[\"input_ids\"],\n",
        "        \"attention_mask\": tokenized[\"attention_mask\"],\n",
        "        \"intensity_features\": intensity_features\n",
        "    }\n",
        "\n",
        "# Process datasets\n",
        "tokenized_train = prepare_inputs(df_train[\"text\"], df_train)\n",
        "tokenized_val = prepare_inputs(df_val[\"text\"], df_val)\n",
        "tokenized_test = prepare_inputs(df_test[\"text\"], df_test)"
      ]
    },
    {
      "cell_type": "markdown",
      "metadata": {
        "id": "JqmwZuV-Yz55"
      },
      "source": [
        "# Model Architecture"
      ]
    },
    {
      "cell_type": "markdown",
      "metadata": {
        "id": "B75HwdM9ZBmj"
      },
      "source": [
        "**Model Architecture**"
      ]
    },
    {
      "cell_type": "code",
      "execution_count": 16,
      "metadata": {
        "colab": {
          "base_uri": "https://localhost:8080/",
          "height": 142,
          "referenced_widgets": [
            "abcb2a06d897455a8df8b5e52c03fefa",
            "0c22ac9a8e034a3fa0c562fe370b344b",
            "327ef7ae3bcc47b3bdbfeadc790eb43d",
            "2d7d3928722d4a2b9fccb1ae99a0be44",
            "96b314a249fc48b089a8c178c6bb8d48",
            "e34afcce062f4cc2a100eddacb58c72b",
            "da6560541b114548881286e346a8b44f",
            "8683af46095446f7a5d6a0163afc6484",
            "7bb9c4e83ebf4063aeab92308be51ee0",
            "824745fc5e5d4e718484fb3bb0deb726",
            "a9cb36ecebec48efab00d0b90be4732a"
          ]
        },
        "id": "Wsz_I4xBZDqb",
        "outputId": "7d09a9c2-845a-4c31-bc9a-8b6b487dc73d"
      },
      "outputs": [
        {
          "output_type": "display_data",
          "data": {
            "text/plain": [
              "model.safetensors:  52%|#####2    | 231M/440M [00:00<?, ?B/s]"
            ],
            "application/vnd.jupyter.widget-view+json": {
              "version_major": 2,
              "version_minor": 0,
              "model_id": "abcb2a06d897455a8df8b5e52c03fefa"
            }
          },
          "metadata": {}
        },
        {
          "output_type": "stream",
          "name": "stderr",
          "text": [
            "All PyTorch model weights were used when initializing TFBertForSequenceClassification.\n",
            "\n",
            "Some weights or buffers of the TF 2.0 model TFBertForSequenceClassification were not initialized from the PyTorch model and are newly initialized: ['classifier.weight', 'classifier.bias']\n",
            "You should probably TRAIN this model on a down-stream task to be able to use it for predictions and inference.\n"
          ]
        }
      ],
      "source": [
        "from transformers import TFBertForSequenceClassification\n",
        "import tensorflow as tf\n",
        "\n",
        "class EnhancedEmotionModel(tf.keras.Model):\n",
        "    def __init__(self, num_emotions=28):\n",
        "        super().__init__()\n",
        "        # Base BERT model for multi-label classification\n",
        "        self.bert = TFBertForSequenceClassification.from_pretrained(\n",
        "            \"bert-base-uncased\",\n",
        "            num_labels=num_emotions,\n",
        "            problem_type=\"multi_label_classification\"\n",
        "        )\n",
        "        # Intensity regression heads\n",
        "        self.intensity_regressors = tf.keras.layers.Dense(\n",
        "            2,\n",
        "            activation='sigmoid',  # For intensity scores (0-1)\n",
        "            name='intensity_output'\n",
        "        )\n",
        "\n",
        "    def call(self, inputs):\n",
        "        # BERT outputs for emotion presence\n",
        "        outputs = self.bert(\n",
        "            input_ids=inputs[\"input_ids\"],\n",
        "            attention_mask=inputs[\"attention_mask\"]\n",
        "        )\n",
        "\n",
        "        # Separate intensity prediction\n",
        "        intensity = self.intensity_regressors(outputs.logits)\n",
        "\n",
        "        return {\n",
        "            \"emotions\": outputs.logits,  # For presence/absence\n",
        "            \"intensity\": intensity       # For intensity scores\n",
        "        }\n",
        "\n",
        "model = EnhancedEmotionModel()\n"
      ]
    },
    {
      "cell_type": "markdown",
      "metadata": {
        "id": "ihbISqtocW8i"
      },
      "source": [
        "**Prepare Training Data**"
      ]
    },
    {
      "cell_type": "code",
      "execution_count": 17,
      "metadata": {
        "id": "ZkIXnixKcgNY"
      },
      "outputs": [],
      "source": [
        "train_dataset = tf.data.Dataset.from_tensor_slices((\n",
        "    {\n",
        "        \"input_ids\": tokenized_train[\"input_ids\"],\n",
        "        \"attention_mask\": tokenized_train[\"attention_mask\"],\n",
        "        \"intensity_features\": tokenized_train[\"intensity_features\"]\n",
        "    },\n",
        "    {\n",
        "        \"emotions\": df_train[\"category\"].map({\"positive\": 0, \"negative\": 1, \"neutral\": 2}).values,\n",
        "        \"intensity\": df_train[[\"positive_score\", \"negative_score\"]].values\n",
        "    }\n",
        ")).batch(8).prefetch(tf.data.AUTOTUNE)\n",
        "\n",
        "val_dataset = tf.data.Dataset.from_tensor_slices((\n",
        "    {\n",
        "        \"input_ids\": tokenized_val[\"input_ids\"],\n",
        "        \"attention_mask\": tokenized_val[\"attention_mask\"],\n",
        "        \"intensity_features\": tokenized_val[\"intensity_features\"]\n",
        "    },\n",
        "    {\n",
        "        \"emotions\": df_val[\"category\"].map({\"positive\": 0, \"negative\": 1, \"neutral\": 2}).values,\n",
        "        \"intensity\": df_val[[\"positive_score\", \"negative_score\"]].values\n",
        "    }\n",
        ")).batch(8).prefetch(tf.data.AUTOTUNE)"
      ]
    },
    {
      "cell_type": "markdown",
      "metadata": {
        "id": "qYqBTsUMlBBE"
      },
      "source": [
        "**Compile the Model**"
      ]
    },
    {
      "cell_type": "code",
      "execution_count": 18,
      "metadata": {
        "id": "z1O-Xyx4lC-k"
      },
      "outputs": [],
      "source": [
        "# ========== INTENSITY-AWARE LOSS ==========\n",
        "class IntensityAwareMSE(tf.keras.losses.Loss):\n",
        "    def __init__(self, intensity_weight=0.3):\n",
        "        super().__init__()\n",
        "        self.base_loss = tf.keras.losses.MeanSquaredError()\n",
        "        self.intensity_weight = intensity_weight\n",
        "\n",
        "    def call(self, y_true, y_pred):\n",
        "        base_loss = self.base_loss(y_true, y_pred)\n",
        "        # Add custom logic using intensity features here\n",
        "        return base_loss * (1 + self.intensity_weight)\n",
        "\n",
        "# Update model compilation\n",
        "model.compile(\n",
        "    optimizer=tf.keras.optimizers.Adam(2e-5),\n",
        "    loss={\n",
        "        \"emotions\": tf.keras.losses.SparseCategoricalCrossentropy(from_logits=True),\n",
        "        \"intensity\": IntensityAwareMSE()\n",
        "    },\n",
        "    metrics={\n",
        "        \"emotions\": [\"accuracy\"],\n",
        "        \"intensity\": [\"mse\"]\n",
        "    }\n",
        ")"
      ]
    },
    {
      "cell_type": "markdown",
      "metadata": {
        "id": "OJM_dVb7cjfY"
      },
      "source": [
        "**Train the Model**"
      ]
    },
    {
      "cell_type": "code",
      "execution_count": null,
      "metadata": {
        "colab": {
          "base_uri": "https://localhost:8080/"
        },
        "id": "TaAPckb4cuPJ",
        "outputId": "b935a65b-aacd-4bca-9134-8cc2cdd55d24"
      },
      "outputs": [
        {
          "output_type": "stream",
          "name": "stdout",
          "text": [
            "Epoch 1/10\n"
          ]
        }
      ],
      "source": [
        "history = model.fit(\n",
        "    train_dataset,\n",
        "    validation_data=val_dataset,\n",
        "    epochs=10\n",
        ")"
      ]
    },
    {
      "cell_type": "markdown",
      "metadata": {
        "id": "f-bOblY5U-p9"
      },
      "source": [
        "**Save The Model**"
      ]
    },
    {
      "cell_type": "code",
      "source": [
        "from google.colab import drive\n",
        "from tensorflow.keras.models import load_model\n",
        "\n",
        "drive.mount('/content/drive')\n",
        "\n",
        "# model.save(\"/content/drive/MyDrive/models/sentiment_emotion_mapping_1.hdf5\")\n",
        "model.save(\"/content/drive/MyDrive/models/sentiment_emotion_mapping_3\", save_format=\"tf\")\n"
      ],
      "metadata": {
        "id": "sZ_iWwAExnTK",
        "collapsed": true
      },
      "execution_count": null,
      "outputs": []
    },
    {
      "cell_type": "markdown",
      "metadata": {
        "id": "yvDGY_yyrglw"
      },
      "source": [
        "### Prediction"
      ]
    },
    {
      "cell_type": "code",
      "source": [
        "import re\n",
        "import tensorflow as tf\n",
        "import pandas as pd\n",
        "\n",
        "# def prepare_inputs(text, df):\n",
        "#     # Lowercase and remove punctuation from text\n",
        "#     text = text.str.lower().apply(lambda t: re.sub(r\"[^\\w\\s]\", \"\", t))\n",
        "#     # Tokenize the text\n",
        "#     inputs = tokenizer(\n",
        "#         text.tolist(),\n",
        "#         padding=\"max_length\",\n",
        "#         truncation=True,\n",
        "#         max_length=512,\n",
        "#         return_tensors=\"tf\"\n",
        "#     )\n",
        "#     # Assuming your dataframe already has precomputed intensity features,\n",
        "#     # here we simulate them. If not, compute or add your intensity features column.\n",
        "#     if \"intensity_features\" not in df.columns:\n",
        "#         # Example: create dummy intensity features (adjust as needed)\n",
        "#         df[\"intensity_features\"] = [[1.0, 1.0, 1.0]] * len(df)\n",
        "#     intensity_features = tf.convert_to_tensor(\n",
        "#         list(df[\"intensity_features\"]),\n",
        "#         dtype=tf.float32\n",
        "#     )\n",
        "#     # Return inputs with intensity features added\n",
        "#     inputs[\"intensity_features\"] = intensity_features\n",
        "#     return inputs\n",
        "\n",
        "# # Recreate the model architecture\n",
        "# model = EnhancedEmotionModel()\n",
        "\n",
        "# # Option 1: Build the model by calling it on a sample input (if needed)\n",
        "# # For example, create a dummy batch matching your input shape\n",
        "# dummy_inputs = {\n",
        "#     \"input_ids\": tf.zeros((1, 512), dtype=tf.int32),\n",
        "#     \"attention_mask\": tf.zeros((1, 512), dtype=tf.int32),\n",
        "#     \"intensity_features\": tf.zeros((1, 3), dtype=tf.float32)\n",
        "# }\n",
        "# _ = model(dummy_inputs)  # This will build the model\n",
        "\n",
        "\n",
        "# Load the weights from your HDF5 file\n",
        "model.load_weights(\"/content/drive/MyDrive/models/sentiment_emotion_mapping_3\")\n",
        "\n",
        "# Prepare your test data (assuming prepare_inputs and df_test are defined)\n",
        "tokenized_test = prepare_inputs(df_test[\"text\"], df_test)\n",
        "test_dataset = tf.data.Dataset.from_tensor_slices({\n",
        "    \"input_ids\": tokenized_test[\"input_ids\"],\n",
        "    \"attention_mask\": tokenized_test[\"attention_mask\"],\n",
        "    \"intensity_features\": tokenized_test[\"intensity_features\"]\n",
        "}).batch(8)\n",
        "\n",
        "# Make predictions\n",
        "predictions = model.predict(test_dataset)\n",
        "\n",
        "# Extract the outputs (assuming model outputs a dict with 'logits' and 'regressor')\n",
        "class_logits = predictions[\"emotions\"]\n",
        "regression_preds = predictions[\"intensity\"]\n",
        "\n",
        "# Get class labels from logits\n",
        "predicted_classes = tf.argmax(class_logits, axis=1).numpy()\n",
        "\n",
        "print(predicted_classes)\n",
        "\n",
        "\n",
        "\n",
        "# Define the reverse mapping from index to label\n",
        "label_mapping = {0: \"positive\", 1: \"negative\", 2: \"neutral\"}\n",
        "\n",
        "# Create a DataFrame with test text and predicted label\n",
        "results_df = pd.DataFrame({\n",
        "    \"Test Text\": df_test[\"text\"].tolist(),\n",
        "    \"Predicted Label\": [label_mapping[pred] for pred in predicted_classes]\n",
        "})\n",
        "\n",
        "# Print the results\n",
        "print(results_df)"
      ],
      "metadata": {
        "id": "FMjlO-yxEVjK"
      },
      "execution_count": null,
      "outputs": []
    },
    {
      "cell_type": "markdown",
      "metadata": {
        "id": "3X4Bx9v-YHGG"
      },
      "source": [
        "# **Evaluation**"
      ]
    },
    {
      "cell_type": "code",
      "source": [
        "from sklearn.metrics import accuracy_score, classification_report, confusion_matrix\n",
        "\n",
        "# Create a mapping (adjust if your mapping is different)\n",
        "label_mapping = {\"positive\": 0, \"negative\": 1, \"neutral\": 2}\n",
        "\n",
        "# Map the actual labels in df_test to their corresponding indices\n",
        "actual_labels = df_test[\"category\"].map(label_mapping).values\n",
        "\n",
        "# Assuming predicted_classes contains your model predictions (as integers)\n",
        "accuracy = accuracy_score(actual_labels, predicted_classes)\n",
        "print(\"Accuracy:\", accuracy)\n",
        "\n",
        "print(\"\\nClassification Report:\")\n",
        "print(classification_report(actual_labels, predicted_classes, target_names=[\"positive\", \"negative\", \"neutral\"]))\n",
        "\n",
        "print(\"\\nConfusion Matrix:\")\n",
        "print(confusion_matrix(actual_labels, predicted_classes))\n"
      ],
      "metadata": {
        "id": "tCEWyVe9HF_Z"
      },
      "execution_count": null,
      "outputs": []
    }
  ],
  "metadata": {
    "colab": {
      "collapsed_sections": [
        "pfHpRrLPoL2i",
        "1GltN5VOKSAo",
        "WF51bhCkZqiZ",
        "u8mffrnK3fQb",
        "Jum6zjCNd-SA",
        "eUA9d2tIce9n",
        "sCdNBBg0ddyX",
        "8GlWMC3AiAK9",
        "rn4aC3vbjCME",
        "JqmwZuV-Yz55",
        "3X4Bx9v-YHGG"
      ],
      "provenance": [],
      "include_colab_link": true
    },
    "kernelspec": {
      "display_name": "Python 3",
      "name": "python3"
    },
    "language_info": {
      "name": "python"
    },
    "widgets": {
      "application/vnd.jupyter.widget-state+json": {
        "abcb2a06d897455a8df8b5e52c03fefa": {
          "model_module": "@jupyter-widgets/controls",
          "model_name": "HBoxModel",
          "model_module_version": "1.5.0",
          "state": {
            "_dom_classes": [],
            "_model_module": "@jupyter-widgets/controls",
            "_model_module_version": "1.5.0",
            "_model_name": "HBoxModel",
            "_view_count": null,
            "_view_module": "@jupyter-widgets/controls",
            "_view_module_version": "1.5.0",
            "_view_name": "HBoxView",
            "box_style": "",
            "children": [
              "IPY_MODEL_0c22ac9a8e034a3fa0c562fe370b344b",
              "IPY_MODEL_327ef7ae3bcc47b3bdbfeadc790eb43d",
              "IPY_MODEL_2d7d3928722d4a2b9fccb1ae99a0be44"
            ],
            "layout": "IPY_MODEL_96b314a249fc48b089a8c178c6bb8d48"
          }
        },
        "0c22ac9a8e034a3fa0c562fe370b344b": {
          "model_module": "@jupyter-widgets/controls",
          "model_name": "HTMLModel",
          "model_module_version": "1.5.0",
          "state": {
            "_dom_classes": [],
            "_model_module": "@jupyter-widgets/controls",
            "_model_module_version": "1.5.0",
            "_model_name": "HTMLModel",
            "_view_count": null,
            "_view_module": "@jupyter-widgets/controls",
            "_view_module_version": "1.5.0",
            "_view_name": "HTMLView",
            "description": "",
            "description_tooltip": null,
            "layout": "IPY_MODEL_e34afcce062f4cc2a100eddacb58c72b",
            "placeholder": "​",
            "style": "IPY_MODEL_da6560541b114548881286e346a8b44f",
            "value": "model.safetensors: 100%"
          }
        },
        "327ef7ae3bcc47b3bdbfeadc790eb43d": {
          "model_module": "@jupyter-widgets/controls",
          "model_name": "FloatProgressModel",
          "model_module_version": "1.5.0",
          "state": {
            "_dom_classes": [],
            "_model_module": "@jupyter-widgets/controls",
            "_model_module_version": "1.5.0",
            "_model_name": "FloatProgressModel",
            "_view_count": null,
            "_view_module": "@jupyter-widgets/controls",
            "_view_module_version": "1.5.0",
            "_view_name": "ProgressView",
            "bar_style": "success",
            "description": "",
            "description_tooltip": null,
            "layout": "IPY_MODEL_8683af46095446f7a5d6a0163afc6484",
            "max": 440449768,
            "min": 0,
            "orientation": "horizontal",
            "style": "IPY_MODEL_7bb9c4e83ebf4063aeab92308be51ee0",
            "value": 440449768
          }
        },
        "2d7d3928722d4a2b9fccb1ae99a0be44": {
          "model_module": "@jupyter-widgets/controls",
          "model_name": "HTMLModel",
          "model_module_version": "1.5.0",
          "state": {
            "_dom_classes": [],
            "_model_module": "@jupyter-widgets/controls",
            "_model_module_version": "1.5.0",
            "_model_name": "HTMLModel",
            "_view_count": null,
            "_view_module": "@jupyter-widgets/controls",
            "_view_module_version": "1.5.0",
            "_view_name": "HTMLView",
            "description": "",
            "description_tooltip": null,
            "layout": "IPY_MODEL_824745fc5e5d4e718484fb3bb0deb726",
            "placeholder": "​",
            "style": "IPY_MODEL_a9cb36ecebec48efab00d0b90be4732a",
            "value": " 440M/440M [00:02&lt;00:00, 107MB/s]"
          }
        },
        "96b314a249fc48b089a8c178c6bb8d48": {
          "model_module": "@jupyter-widgets/base",
          "model_name": "LayoutModel",
          "model_module_version": "1.2.0",
          "state": {
            "_model_module": "@jupyter-widgets/base",
            "_model_module_version": "1.2.0",
            "_model_name": "LayoutModel",
            "_view_count": null,
            "_view_module": "@jupyter-widgets/base",
            "_view_module_version": "1.2.0",
            "_view_name": "LayoutView",
            "align_content": null,
            "align_items": null,
            "align_self": null,
            "border": null,
            "bottom": null,
            "display": null,
            "flex": null,
            "flex_flow": null,
            "grid_area": null,
            "grid_auto_columns": null,
            "grid_auto_flow": null,
            "grid_auto_rows": null,
            "grid_column": null,
            "grid_gap": null,
            "grid_row": null,
            "grid_template_areas": null,
            "grid_template_columns": null,
            "grid_template_rows": null,
            "height": null,
            "justify_content": null,
            "justify_items": null,
            "left": null,
            "margin": null,
            "max_height": null,
            "max_width": null,
            "min_height": null,
            "min_width": null,
            "object_fit": null,
            "object_position": null,
            "order": null,
            "overflow": null,
            "overflow_x": null,
            "overflow_y": null,
            "padding": null,
            "right": null,
            "top": null,
            "visibility": null,
            "width": null
          }
        },
        "e34afcce062f4cc2a100eddacb58c72b": {
          "model_module": "@jupyter-widgets/base",
          "model_name": "LayoutModel",
          "model_module_version": "1.2.0",
          "state": {
            "_model_module": "@jupyter-widgets/base",
            "_model_module_version": "1.2.0",
            "_model_name": "LayoutModel",
            "_view_count": null,
            "_view_module": "@jupyter-widgets/base",
            "_view_module_version": "1.2.0",
            "_view_name": "LayoutView",
            "align_content": null,
            "align_items": null,
            "align_self": null,
            "border": null,
            "bottom": null,
            "display": null,
            "flex": null,
            "flex_flow": null,
            "grid_area": null,
            "grid_auto_columns": null,
            "grid_auto_flow": null,
            "grid_auto_rows": null,
            "grid_column": null,
            "grid_gap": null,
            "grid_row": null,
            "grid_template_areas": null,
            "grid_template_columns": null,
            "grid_template_rows": null,
            "height": null,
            "justify_content": null,
            "justify_items": null,
            "left": null,
            "margin": null,
            "max_height": null,
            "max_width": null,
            "min_height": null,
            "min_width": null,
            "object_fit": null,
            "object_position": null,
            "order": null,
            "overflow": null,
            "overflow_x": null,
            "overflow_y": null,
            "padding": null,
            "right": null,
            "top": null,
            "visibility": null,
            "width": null
          }
        },
        "da6560541b114548881286e346a8b44f": {
          "model_module": "@jupyter-widgets/controls",
          "model_name": "DescriptionStyleModel",
          "model_module_version": "1.5.0",
          "state": {
            "_model_module": "@jupyter-widgets/controls",
            "_model_module_version": "1.5.0",
            "_model_name": "DescriptionStyleModel",
            "_view_count": null,
            "_view_module": "@jupyter-widgets/base",
            "_view_module_version": "1.2.0",
            "_view_name": "StyleView",
            "description_width": ""
          }
        },
        "8683af46095446f7a5d6a0163afc6484": {
          "model_module": "@jupyter-widgets/base",
          "model_name": "LayoutModel",
          "model_module_version": "1.2.0",
          "state": {
            "_model_module": "@jupyter-widgets/base",
            "_model_module_version": "1.2.0",
            "_model_name": "LayoutModel",
            "_view_count": null,
            "_view_module": "@jupyter-widgets/base",
            "_view_module_version": "1.2.0",
            "_view_name": "LayoutView",
            "align_content": null,
            "align_items": null,
            "align_self": null,
            "border": null,
            "bottom": null,
            "display": null,
            "flex": null,
            "flex_flow": null,
            "grid_area": null,
            "grid_auto_columns": null,
            "grid_auto_flow": null,
            "grid_auto_rows": null,
            "grid_column": null,
            "grid_gap": null,
            "grid_row": null,
            "grid_template_areas": null,
            "grid_template_columns": null,
            "grid_template_rows": null,
            "height": null,
            "justify_content": null,
            "justify_items": null,
            "left": null,
            "margin": null,
            "max_height": null,
            "max_width": null,
            "min_height": null,
            "min_width": null,
            "object_fit": null,
            "object_position": null,
            "order": null,
            "overflow": null,
            "overflow_x": null,
            "overflow_y": null,
            "padding": null,
            "right": null,
            "top": null,
            "visibility": null,
            "width": null
          }
        },
        "7bb9c4e83ebf4063aeab92308be51ee0": {
          "model_module": "@jupyter-widgets/controls",
          "model_name": "ProgressStyleModel",
          "model_module_version": "1.5.0",
          "state": {
            "_model_module": "@jupyter-widgets/controls",
            "_model_module_version": "1.5.0",
            "_model_name": "ProgressStyleModel",
            "_view_count": null,
            "_view_module": "@jupyter-widgets/base",
            "_view_module_version": "1.2.0",
            "_view_name": "StyleView",
            "bar_color": null,
            "description_width": ""
          }
        },
        "824745fc5e5d4e718484fb3bb0deb726": {
          "model_module": "@jupyter-widgets/base",
          "model_name": "LayoutModel",
          "model_module_version": "1.2.0",
          "state": {
            "_model_module": "@jupyter-widgets/base",
            "_model_module_version": "1.2.0",
            "_model_name": "LayoutModel",
            "_view_count": null,
            "_view_module": "@jupyter-widgets/base",
            "_view_module_version": "1.2.0",
            "_view_name": "LayoutView",
            "align_content": null,
            "align_items": null,
            "align_self": null,
            "border": null,
            "bottom": null,
            "display": null,
            "flex": null,
            "flex_flow": null,
            "grid_area": null,
            "grid_auto_columns": null,
            "grid_auto_flow": null,
            "grid_auto_rows": null,
            "grid_column": null,
            "grid_gap": null,
            "grid_row": null,
            "grid_template_areas": null,
            "grid_template_columns": null,
            "grid_template_rows": null,
            "height": null,
            "justify_content": null,
            "justify_items": null,
            "left": null,
            "margin": null,
            "max_height": null,
            "max_width": null,
            "min_height": null,
            "min_width": null,
            "object_fit": null,
            "object_position": null,
            "order": null,
            "overflow": null,
            "overflow_x": null,
            "overflow_y": null,
            "padding": null,
            "right": null,
            "top": null,
            "visibility": null,
            "width": null
          }
        },
        "a9cb36ecebec48efab00d0b90be4732a": {
          "model_module": "@jupyter-widgets/controls",
          "model_name": "DescriptionStyleModel",
          "model_module_version": "1.5.0",
          "state": {
            "_model_module": "@jupyter-widgets/controls",
            "_model_module_version": "1.5.0",
            "_model_name": "DescriptionStyleModel",
            "_view_count": null,
            "_view_module": "@jupyter-widgets/base",
            "_view_module_version": "1.2.0",
            "_view_name": "StyleView",
            "description_width": ""
          }
        }
      }
    }
  },
  "nbformat": 4,
  "nbformat_minor": 0
}